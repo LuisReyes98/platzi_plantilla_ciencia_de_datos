{
 "cells": [
  {
   "cell_type": "markdown",
   "metadata": {},
   "source": [
    "## Process data"
   ]
  },
  {
   "cell_type": "markdown",
   "metadata": {},
   "source": [
    "### Read data"
   ]
  },
  {
   "cell_type": "code",
   "execution_count": null,
   "metadata": {},
   "outputs": [
    {
     "name": "stdout",
     "output_type": "stream",
     "text": [
      "The autoreload extension is already loaded. To reload it, use:\n",
      "  %reload_ext autoreload\n"
     ]
    }
   ],
   "source": [
    "%load_ext autoreload\n",
    "%autoreload 2"
   ]
  },
  {
   "cell_type": "code",
   "execution_count": null,
   "metadata": {},
   "outputs": [],
   "source": [
    "import final_project.utils.paths as path\n",
    "import janitor\n",
    "import matplotlib.pyplot as plt\n",
    "import pandas as pd\n",
    "import seaborn as sns"
   ]
  },
  {
   "cell_type": "code",
   "execution_count": null,
   "metadata": {},
   "outputs": [],
   "source": [
    "input_covid_file = path.data_raw_dir(\"time_series_covid19_confirmed_global.csv\")"
   ]
  },
  {
   "cell_type": "code",
   "execution_count": null,
   "metadata": {},
   "outputs": [
    {
     "name": "stdout",
     "output_type": "stream",
     "text": [
      "<class 'pandas.core.frame.DataFrame'>\n",
      "RangeIndex: 280 entries, 0 to 279\n",
      "Columns: 692 entries, Province/State to 12/9/21\n",
      "dtypes: float64(2), int64(688), object(2)\n",
      "memory usage: 1.5+ MB\n"
     ]
    }
   ],
   "source": [
    "covid_df = pd.read_csv(input_covid_file)\n",
    "covid_df.info()"
   ]
  },
  {
   "cell_type": "code",
   "execution_count": null,
   "metadata": {},
   "outputs": [
    {
     "data": {
      "text/html": [
       "<div>\n",
       "<style scoped>\n",
       "    .dataframe tbody tr th:only-of-type {\n",
       "        vertical-align: middle;\n",
       "    }\n",
       "\n",
       "    .dataframe tbody tr th {\n",
       "        vertical-align: top;\n",
       "    }\n",
       "\n",
       "    .dataframe thead th {\n",
       "        text-align: right;\n",
       "    }\n",
       "</style>\n",
       "<table border=\"1\" class=\"dataframe\">\n",
       "  <thead>\n",
       "    <tr style=\"text-align: right;\">\n",
       "      <th></th>\n",
       "      <th>Province/State</th>\n",
       "      <th>Country/Region</th>\n",
       "      <th>Lat</th>\n",
       "      <th>Long</th>\n",
       "      <th>1/22/20</th>\n",
       "      <th>1/23/20</th>\n",
       "      <th>1/24/20</th>\n",
       "      <th>1/25/20</th>\n",
       "      <th>1/26/20</th>\n",
       "      <th>1/27/20</th>\n",
       "      <th>...</th>\n",
       "      <th>11/30/21</th>\n",
       "      <th>12/1/21</th>\n",
       "      <th>12/2/21</th>\n",
       "      <th>12/3/21</th>\n",
       "      <th>12/4/21</th>\n",
       "      <th>12/5/21</th>\n",
       "      <th>12/6/21</th>\n",
       "      <th>12/7/21</th>\n",
       "      <th>12/8/21</th>\n",
       "      <th>12/9/21</th>\n",
       "    </tr>\n",
       "  </thead>\n",
       "  <tbody>\n",
       "    <tr>\n",
       "      <th>0</th>\n",
       "      <td>NaN</td>\n",
       "      <td>Afghanistan</td>\n",
       "      <td>33.93911</td>\n",
       "      <td>67.709953</td>\n",
       "      <td>0</td>\n",
       "      <td>0</td>\n",
       "      <td>0</td>\n",
       "      <td>0</td>\n",
       "      <td>0</td>\n",
       "      <td>0</td>\n",
       "      <td>...</td>\n",
       "      <td>157289</td>\n",
       "      <td>157359</td>\n",
       "      <td>157387</td>\n",
       "      <td>157412</td>\n",
       "      <td>157431</td>\n",
       "      <td>157445</td>\n",
       "      <td>157499</td>\n",
       "      <td>157508</td>\n",
       "      <td>157542</td>\n",
       "      <td>157585</td>\n",
       "    </tr>\n",
       "    <tr>\n",
       "      <th>1</th>\n",
       "      <td>NaN</td>\n",
       "      <td>Albania</td>\n",
       "      <td>41.15330</td>\n",
       "      <td>20.168300</td>\n",
       "      <td>0</td>\n",
       "      <td>0</td>\n",
       "      <td>0</td>\n",
       "      <td>0</td>\n",
       "      <td>0</td>\n",
       "      <td>0</td>\n",
       "      <td>...</td>\n",
       "      <td>199945</td>\n",
       "      <td>200173</td>\n",
       "      <td>200639</td>\n",
       "      <td>201045</td>\n",
       "      <td>201402</td>\n",
       "      <td>201730</td>\n",
       "      <td>201902</td>\n",
       "      <td>202295</td>\n",
       "      <td>202641</td>\n",
       "      <td>202863</td>\n",
       "    </tr>\n",
       "    <tr>\n",
       "      <th>2</th>\n",
       "      <td>NaN</td>\n",
       "      <td>Algeria</td>\n",
       "      <td>28.03390</td>\n",
       "      <td>1.659600</td>\n",
       "      <td>0</td>\n",
       "      <td>0</td>\n",
       "      <td>0</td>\n",
       "      <td>0</td>\n",
       "      <td>0</td>\n",
       "      <td>0</td>\n",
       "      <td>...</td>\n",
       "      <td>210531</td>\n",
       "      <td>210723</td>\n",
       "      <td>210921</td>\n",
       "      <td>211112</td>\n",
       "      <td>211297</td>\n",
       "      <td>211469</td>\n",
       "      <td>211662</td>\n",
       "      <td>211859</td>\n",
       "      <td>212047</td>\n",
       "      <td>212224</td>\n",
       "    </tr>\n",
       "    <tr>\n",
       "      <th>3</th>\n",
       "      <td>NaN</td>\n",
       "      <td>Andorra</td>\n",
       "      <td>42.50630</td>\n",
       "      <td>1.521800</td>\n",
       "      <td>0</td>\n",
       "      <td>0</td>\n",
       "      <td>0</td>\n",
       "      <td>0</td>\n",
       "      <td>0</td>\n",
       "      <td>0</td>\n",
       "      <td>...</td>\n",
       "      <td>17115</td>\n",
       "      <td>17426</td>\n",
       "      <td>17658</td>\n",
       "      <td>18010</td>\n",
       "      <td>18010</td>\n",
       "      <td>18010</td>\n",
       "      <td>18631</td>\n",
       "      <td>18815</td>\n",
       "      <td>18815</td>\n",
       "      <td>19272</td>\n",
       "    </tr>\n",
       "    <tr>\n",
       "      <th>4</th>\n",
       "      <td>NaN</td>\n",
       "      <td>Angola</td>\n",
       "      <td>-11.20270</td>\n",
       "      <td>17.873900</td>\n",
       "      <td>0</td>\n",
       "      <td>0</td>\n",
       "      <td>0</td>\n",
       "      <td>0</td>\n",
       "      <td>0</td>\n",
       "      <td>0</td>\n",
       "      <td>...</td>\n",
       "      <td>65168</td>\n",
       "      <td>65183</td>\n",
       "      <td>65208</td>\n",
       "      <td>65223</td>\n",
       "      <td>65244</td>\n",
       "      <td>65259</td>\n",
       "      <td>65259</td>\n",
       "      <td>65301</td>\n",
       "      <td>65332</td>\n",
       "      <td>65346</td>\n",
       "    </tr>\n",
       "  </tbody>\n",
       "</table>\n",
       "<p>5 rows × 692 columns</p>\n",
       "</div>"
      ],
      "text/plain": [
       "  Province/State Country/Region       Lat       Long  1/22/20  1/23/20  \\\n",
       "0            NaN    Afghanistan  33.93911  67.709953        0        0   \n",
       "1            NaN        Albania  41.15330  20.168300        0        0   \n",
       "2            NaN        Algeria  28.03390   1.659600        0        0   \n",
       "3            NaN        Andorra  42.50630   1.521800        0        0   \n",
       "4            NaN         Angola -11.20270  17.873900        0        0   \n",
       "\n",
       "   1/24/20  1/25/20  1/26/20  1/27/20  ...  11/30/21  12/1/21  12/2/21  \\\n",
       "0        0        0        0        0  ...    157289   157359   157387   \n",
       "1        0        0        0        0  ...    199945   200173   200639   \n",
       "2        0        0        0        0  ...    210531   210723   210921   \n",
       "3        0        0        0        0  ...     17115    17426    17658   \n",
       "4        0        0        0        0  ...     65168    65183    65208   \n",
       "\n",
       "   12/3/21  12/4/21  12/5/21  12/6/21  12/7/21  12/8/21  12/9/21  \n",
       "0   157412   157431   157445   157499   157508   157542   157585  \n",
       "1   201045   201402   201730   201902   202295   202641   202863  \n",
       "2   211112   211297   211469   211662   211859   212047   212224  \n",
       "3    18010    18010    18010    18631    18815    18815    19272  \n",
       "4    65223    65244    65259    65259    65301    65332    65346  \n",
       "\n",
       "[5 rows x 692 columns]"
      ]
     },
     "metadata": {},
     "output_type": "display_data"
    }
   ],
   "source": [
    "covid_df.head()"
   ]
  },
  {
   "cell_type": "markdown",
   "metadata": {},
   "source": []
  },
  {
   "cell_type": "code",
   "execution_count": null,
   "metadata": {},
   "outputs": [],
   "source": []
  }
 ],
 "metadata": {
  "language_info": {
   "name": "python"
  },
  "orig_nbformat": 4
 },
 "nbformat": 4,
 "nbformat_minor": 2
}
